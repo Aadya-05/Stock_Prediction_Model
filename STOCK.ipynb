import pandas as pd
import numpy as np
from sklearn.model_selection import train_test_split
from sklearn.linear_model import LinearRegression
from sklearn.metrics import mean_squared_error
import matplotlib.pyplot as plt

data = pd.read_csv("nsebank.csv")
print(data.head())

data['Date'] = pd.to_datetime(data['Date'])
data.set_index('Date', inplace=True)

X = np.arange(len(data)).reshape(-1, 1)
y = data['Close'].values

X_train, X_test, y_train, y_test = train_test_split(X, y, test_size=0.2, random_state=42)

# Handle NaN and infinite values in X_train and y_train
X_train = np.nan_to_num(X_train)
y_train = np.nan_to_num(y_train)

model = LinearRegression()
model.fit(X_train, y_train)

# Make predictions on the test set
y_pred = model.predict(X_test)

# Evaluate the model
mse = mean_squared_error(y_test, y_pred)
print(f'Mean Squared Error: {mse}')

# Visualize the predictions
plt.figure(figsize=(12, 6))
plt.plot(data.index[-len(X_test):], y_test, label='Actual Close Price')
plt.plot(data.index[-len(X_test):], y_pred, label='Predicted Close Price', linestyle='dashed')
plt.title('Bank Nifty Stock Price Prediction')
plt.xlabel('Date')
plt.ylabel('Close Price')
plt.legend()
plt.show()
